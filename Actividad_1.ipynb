{
  "nbformat": 4,
  "nbformat_minor": 0,
  "metadata": {
    "colab": {
      "provenance": []
    },
    "kernelspec": {
      "name": "python3",
      "display_name": "Python 3"
    },
    "language_info": {
      "name": "python"
    }
  },
  "cells": [
    {
      "cell_type": "markdown",
      "source": [
        "CALCULAR LA DISTANCIA ENTRE DOS PUNTOS EN UN PLANO CARTESIANO"
      ],
      "metadata": {
        "id": "azq3UgSiO5Xx"
      }
    },
    {
      "cell_type": "code",
      "execution_count": null,
      "metadata": {
        "colab": {
          "base_uri": "https://localhost:8080/"
        },
        "id": "9jZQoS3I5yF7",
        "outputId": "8cca5444-c861-4c84-bf09-6701956896e3"
      },
      "outputs": [
        {
          "name": "stdout",
          "output_type": "stream",
          "text": [
            "ingrese el valor de x de la primera coordenada7\n",
            "ingrese el valor de y de la primera coordenada14\n",
            "ingrese el valor de x de la segunda coordenada-2\n",
            "ingrese el valor de y de la segunda coordenada8\n"
          ]
        }
      ],
      "source": [
        "#Calcular la distancia entre dos puntos\n",
        "x1=float(input(\"ingrese el valor de x de la primera coordenada\"))\n",
        "y1=float(input(\"ingrese el valor de y de la primera coordenada\"))\n",
        "x2=float(input(\"ingrese el valor de x de la segunda coordenada\"))\n",
        "y2=float(input(\"ingrese el valor de y de la segunda coordenada\"))"
      ]
    },
    {
      "cell_type": "code",
      "source": [
        "#Opción 1: Uso variable para almacenar la operación\n",
        "d=((x1-x2)**2+(y1-y2)**2)**1/2\n",
        "print(f\"La distancia entre los puntos ({x1},{y1})\")\n",
        "print(f\"y ({x2},{y2}) es {d}\")"
      ],
      "metadata": {
        "colab": {
          "base_uri": "https://localhost:8080/"
        },
        "id": "pq52K0cy8B3N",
        "outputId": "a2c805c5-59d2-45ae-c4cb-b5b3a472dd36"
      },
      "execution_count": null,
      "outputs": [
        {
          "output_type": "stream",
          "name": "stdout",
          "text": [
            "La distancia entre los puntos (7.0,14.0)\n",
            "y (-2.0,8.0) es 58.5\n"
          ]
        }
      ]
    },
    {
      "cell_type": "code",
      "source": [
        "#Forma 2: Sin variable, se imprime resultado\n",
        "print(f\"La distancia entre los puntos ({x1},{y1})\")\n",
        "print(f\"y ({x2},{y2}) es {((x1-x2)**2+(y1-y2)**2)**1/2}\")"
      ],
      "metadata": {
        "colab": {
          "base_uri": "https://localhost:8080/"
        },
        "id": "z7Lp40Lu90Eq",
        "outputId": "ca10c089-adda-4ee1-e343-81987cfaa2ac"
      },
      "execution_count": null,
      "outputs": [
        {
          "output_type": "stream",
          "name": "stdout",
          "text": [
            "La distancia entre los puntos (7.0,14.0)\n",
            "y (-2.0,8.0) es 58.5\n"
          ]
        }
      ]
    },
    {
      "cell_type": "markdown",
      "source": [
        "PROMEDIO DE CALIFICACIONES Y CODIGO DEL ESTUDIANTE"
      ],
      "metadata": {
        "id": "5SNiHkdqPK-i"
      }
    },
    {
      "cell_type": "code",
      "source": [
        "#calcular las calificaciones y el codigo de cada estudiante\n",
        "m1=float(input(\"codigo del estudiante\"))\n",
        "m2=float(input(\"ingrese el valor de la primera calificacion\"))\n",
        "m3=float(input(\"ingrese el valor de la segunda calificacion\"))\n",
        "m4=float(input(\"ingrese el valor de la tercera calificacion\"))\n",
        "m5=float(input(\"ingrese el valor de la cuarta calificacion\"))\n",
        "m6=float(input(\"ingrese el valor de la quinta calificacion\"))\n"
      ],
      "metadata": {
        "colab": {
          "base_uri": "https://localhost:8080/"
        },
        "id": "lP8xJEWu_yXQ",
        "outputId": "0ad61025-1855-4727-c28b-73ada722faea"
      },
      "execution_count": null,
      "outputs": [
        {
          "name": "stdout",
          "output_type": "stream",
          "text": [
            "codigo del estudiante0725\n",
            "ingrese el valor de la primera calificacion4\n",
            "ingrese el valor de la segunda calificacion3\n",
            "ingrese el valor de la tercera calificacion5\n",
            "ingrese el valor de la cuarta calificacion5\n",
            "ingrese el valor de la quinta calificacion2\n"
          ]
        }
      ]
    },
    {
      "cell_type": "code",
      "source": [
        "#Opción 1: Uso variable para almacenar la operación\n",
        "d=((m2+m3+m4+m5))/5\n",
        "print(f\"el estudiante con codigo ({m1}) \")\n",
        "print(f\"tiene un promedio de {d}\")"
      ],
      "metadata": {
        "colab": {
          "base_uri": "https://localhost:8080/"
        },
        "id": "QhpyrS3SBz7v",
        "outputId": "2d65a756-2862-488b-d0c3-2134576508b7"
      },
      "execution_count": null,
      "outputs": [
        {
          "output_type": "stream",
          "name": "stdout",
          "text": [
            "el estudiante con codigo (725.0) \n",
            "tiene un promedio de 3.4\n"
          ]
        }
      ]
    },
    {
      "cell_type": "markdown",
      "source": [
        "CALCULAR EL NUMERO DE SEGUNDOS EN UN NUMERO DE DIAS"
      ],
      "metadata": {
        "id": "Im3INWmbQxJf"
      }
    },
    {
      "cell_type": "code",
      "source": [
        "#Leer el numero entero de la cantidad de días\n",
        "dias= int(input(\"ingrese el numero de dias: \"))"
      ],
      "metadata": {
        "colab": {
          "base_uri": "https://localhost:8080/"
        },
        "id": "rl3_qDkpRYUC",
        "outputId": "94c89d0e-ee94-41bb-9878-a8e186f93cec"
      },
      "execution_count": null,
      "outputs": [
        {
          "name": "stdout",
          "output_type": "stream",
          "text": [
            "ingrese el numero de dias: 7\n"
          ]
        }
      ]
    },
    {
      "cell_type": "code",
      "source": [
        "#Leer variable de segundos\n",
        "segundos= dias*24*60*60\n",
        "print(f\"el número de segundos en los dias dados: {segundos}\")"
      ],
      "metadata": {
        "colab": {
          "base_uri": "https://localhost:8080/"
        },
        "id": "m-tUIoN2SAWh",
        "outputId": "e8b5e1a4-e250-4474-811e-0b1e66d62a64"
      },
      "execution_count": null,
      "outputs": [
        {
          "output_type": "stream",
          "name": "stdout",
          "text": [
            "el número de segundos en los dias dados: 604800\n"
          ]
        }
      ]
    },
    {
      "cell_type": "markdown",
      "source": [
        "CALCULAR EL AREA DE UN TRIANGULO DADO LOS 3 LADOS"
      ],
      "metadata": {
        "id": "EHclDZHmVKMe"
      }
    },
    {
      "cell_type": "code",
      "source": [
        "#Leer medidas de los 3 lados de un triangulo\n",
        "lado1=float(input(\"ingrese el valor de la medida de el primer lado \"))\n",
        "lado2=float(input(\"ingrese el valor de la medida de el segundo lado \"))\n",
        "lado3=float(input(\"ingrese el valor de la medida de el tercer lado \"))"
      ],
      "metadata": {
        "colab": {
          "base_uri": "https://localhost:8080/"
        },
        "id": "j_dpiVtOVcRy",
        "outputId": "cc4940b9-077f-4e2c-da1d-e0f44365cb54"
      },
      "execution_count": null,
      "outputs": [
        {
          "name": "stdout",
          "output_type": "stream",
          "text": [
            "ingrese el valor de la medida de el primer lado 12\n",
            "ingrese el valor de la medida de el segundo lado 12\n",
            "ingrese el valor de la medida de el tercer lado 11\n"
          ]
        }
      ]
    },
    {
      "cell_type": "code",
      "source": [
        "#Leer variable del semiperimetro\n",
        "Sp= (lado1+lado2+lado3)/2\n",
        "print(f\"el semiperimetro es {Sp}\")"
      ],
      "metadata": {
        "colab": {
          "base_uri": "https://localhost:8080/"
        },
        "id": "2cfVa29zWNcZ",
        "outputId": "4e1debdc-19a6-4991-aaef-5d88395f52a4"
      },
      "execution_count": null,
      "outputs": [
        {
          "output_type": "stream",
          "name": "stdout",
          "text": [
            "el semiperimetro es 17.5\n"
          ]
        }
      ]
    },
    {
      "cell_type": "code",
      "source": [
        "#Leer variable de area\n",
        "A=(Sp*(Sp-lado1)*(Sp-lado2)*(Sp-lado3))**1/2\n",
        "print(f\"el area del triangulo es {A}\")"
      ],
      "metadata": {
        "colab": {
          "base_uri": "https://localhost:8080/"
        },
        "id": "BsloHjPBXdfL",
        "outputId": "7639c7a5-6b86-4843-f1c5-c7c15fb1fc2f"
      },
      "execution_count": null,
      "outputs": [
        {
          "output_type": "stream",
          "name": "stdout",
          "text": [
            "el area del triangulo es 1720.46875\n"
          ]
        }
      ]
    },
    {
      "cell_type": "markdown",
      "source": [
        "CALCULAR EL CAMBIO DE UNA COMPRA"
      ],
      "metadata": {
        "id": "nO2GpIzfY4fy"
      }
    },
    {
      "cell_type": "code",
      "source": [
        "#Leer el precio del producto\n",
        "COD= float(input(\"ingrese el precio del producto \"))"
      ],
      "metadata": {
        "colab": {
          "base_uri": "https://localhost:8080/"
        },
        "id": "5jgG8z8WZE1o",
        "outputId": "ef02e994-5059-43a5-de8c-e713aca3f491"
      },
      "execution_count": null,
      "outputs": [
        {
          "name": "stdout",
          "output_type": "stream",
          "text": [
            "ingrese el precio del producto 7000\n"
          ]
        }
      ]
    },
    {
      "cell_type": "code",
      "source": [
        "#Leer cantidad de dinero entregado\n",
        "DIN= float(input(\"ingrese la cantidad de dinero entregada \"))"
      ],
      "metadata": {
        "colab": {
          "base_uri": "https://localhost:8080/"
        },
        "id": "WqB53mbWZVyp",
        "outputId": "4507dc11-a9ab-4b11-8522-ad86cf96cf31"
      },
      "execution_count": null,
      "outputs": [
        {
          "name": "stdout",
          "output_type": "stream",
          "text": [
            "ingrese la cantidad de dinero entregada 20000\n"
          ]
        }
      ]
    },
    {
      "cell_type": "code",
      "source": [
        "#Leer la variable cambio\n",
        "CAM= DIN-COD\n",
        "print(f\" el cambio es {CAM} \")"
      ],
      "metadata": {
        "colab": {
          "base_uri": "https://localhost:8080/"
        },
        "id": "pKti-aG2Z2JC",
        "outputId": "510a14ad-6bac-4c59-ad5c-cfa1bc884649"
      },
      "execution_count": null,
      "outputs": [
        {
          "output_type": "stream",
          "name": "stdout",
          "text": [
            " el cambio es 13000.0 \n"
          ]
        }
      ]
    },
    {
      "cell_type": "markdown",
      "source": [
        "CALCULAR EL AREA DE UN TRIANGULO"
      ],
      "metadata": {
        "id": "Oo34CgUNaesQ"
      }
    },
    {
      "cell_type": "code",
      "source": [
        "#Leer el número entero de la base del triangulo\n",
        "Bs= int(input(\"ingrese el numero de la base del triangulo \"))"
      ],
      "metadata": {
        "colab": {
          "base_uri": "https://localhost:8080/"
        },
        "id": "RbXHjItvamr5",
        "outputId": "17fcbee2-2644-47d1-acf5-a8d138cab703"
      },
      "execution_count": null,
      "outputs": [
        {
          "name": "stdout",
          "output_type": "stream",
          "text": [
            "ingrese el numero de la base del triangulo 7\n"
          ]
        }
      ]
    },
    {
      "cell_type": "code",
      "source": [
        "#Leer el número entero de la altura del triangulo\n",
        "Al= int(input(\"ingrese el numero de la altura del triangulo \"))"
      ],
      "metadata": {
        "colab": {
          "base_uri": "https://localhost:8080/"
        },
        "id": "DKZkjf13bDwY",
        "outputId": "b97c6383-284f-4054-a568-2f789fa48784"
      },
      "execution_count": null,
      "outputs": [
        {
          "name": "stdout",
          "output_type": "stream",
          "text": [
            "ingrese el numero de la altura del triangulo 11\n"
          ]
        }
      ]
    },
    {
      "cell_type": "code",
      "source": [
        "#Leer la variable Area del triangulo\n",
        "Ar= (Bs*Al)/2\n",
        "print(f\"el area del triangulo es {Ar}\")"
      ],
      "metadata": {
        "colab": {
          "base_uri": "https://localhost:8080/"
        },
        "id": "Yiz6nU5kbUXS",
        "outputId": "73982194-1a25-42d0-f765-0ef5d268e3f0"
      },
      "execution_count": null,
      "outputs": [
        {
          "output_type": "stream",
          "name": "stdout",
          "text": [
            "el area del triangulo es 38.5\n"
          ]
        }
      ]
    },
    {
      "cell_type": "markdown",
      "source": [
        "CALCULAR EL AREA Y PERIMETRO DE UN TRIANGULO"
      ],
      "metadata": {
        "id": "ljpFZB5Dbk6T"
      }
    },
    {
      "cell_type": "code",
      "source": [
        "#Leer el número entero de la base del triangulo\n",
        "Ba= int(input(\"ingrese el numero de la base del triangulo \"))"
      ],
      "metadata": {
        "colab": {
          "base_uri": "https://localhost:8080/"
        },
        "id": "trSoCpjvcFIx",
        "outputId": "7075e996-194b-4068-bdc1-ff2ae6d13070"
      },
      "execution_count": null,
      "outputs": [
        {
          "name": "stdout",
          "output_type": "stream",
          "text": [
            "ingrese el numero de la base del triangulo 4\n"
          ]
        }
      ]
    },
    {
      "cell_type": "code",
      "source": [
        "#Leer el número entero de la altura del triangulo\n",
        "Ra= int(input(\"ingrese el numero de la altura del triangulo \"))"
      ],
      "metadata": {
        "colab": {
          "base_uri": "https://localhost:8080/"
        },
        "id": "Fz6s4_Qlclth",
        "outputId": "069b6117-6c54-484d-a62b-89c53109f2b7"
      },
      "execution_count": null,
      "outputs": [
        {
          "name": "stdout",
          "output_type": "stream",
          "text": [
            "ingrese el numero de la altura del triangulo 8\n"
          ]
        }
      ]
    },
    {
      "cell_type": "code",
      "source": [
        "#Leer la variable perimetro del triangulo\n",
        "Pe= 2*(Ba+Ra)\n",
        "print(f\"el perimetro del triangulo es {Pe}\")"
      ],
      "metadata": {
        "colab": {
          "base_uri": "https://localhost:8080/"
        },
        "id": "g3PZ8DVncupj",
        "outputId": "eaa420ae-4c21-4dee-fa09-504676b42ab1"
      },
      "execution_count": null,
      "outputs": [
        {
          "output_type": "stream",
          "name": "stdout",
          "text": [
            "el perimetro del triangulo es 24\n"
          ]
        }
      ]
    },
    {
      "cell_type": "code",
      "source": [
        "#Leer la variable Area del triangulo\n",
        "Re= Ba*Ra\n",
        "print(f\"el area del triangulo es {Re}\")"
      ],
      "metadata": {
        "colab": {
          "base_uri": "https://localhost:8080/"
        },
        "id": "2QqZrGtndKc0",
        "outputId": "090fa1ca-60f3-4484-8e31-d9ea7d61c51f"
      },
      "execution_count": null,
      "outputs": [
        {
          "output_type": "stream",
          "name": "stdout",
          "text": [
            "el area del triangulo es 32\n"
          ]
        }
      ]
    },
    {
      "cell_type": "markdown",
      "source": [
        "CALCULAR EL CUADRADO Y CUBO DE UN NUMERO ENTERO"
      ],
      "metadata": {
        "id": "NHy_-qpUddUy"
      }
    },
    {
      "cell_type": "code",
      "source": [
        "#Leer el número entero positivo\n",
        "Np= int(input(\"ingrese el numero entero positivo \"))"
      ],
      "metadata": {
        "colab": {
          "base_uri": "https://localhost:8080/"
        },
        "id": "EggnWgw6dvQa",
        "outputId": "5d8f3aa9-036e-434b-ff32-b2f69b77b445"
      },
      "execution_count": null,
      "outputs": [
        {
          "name": "stdout",
          "output_type": "stream",
          "text": [
            "ingrese el numero entero positivo 7\n"
          ]
        }
      ]
    },
    {
      "cell_type": "code",
      "source": [
        "#Leer variable el cuadrado\n",
        "Cu= Np**2\n",
        "print(f\"el cuadrado de {Np} es {Cu}\")"
      ],
      "metadata": {
        "colab": {
          "base_uri": "https://localhost:8080/"
        },
        "id": "PquSodv3d_ij",
        "outputId": "67fb0a1f-50ac-42dd-9546-f98eddbed7bb"
      },
      "execution_count": null,
      "outputs": [
        {
          "output_type": "stream",
          "name": "stdout",
          "text": [
            "el cuadrado de 7 es 49\n"
          ]
        }
      ]
    },
    {
      "cell_type": "code",
      "source": [
        "#Leer Variable el cubo\n",
        "Cb= Np**3\n",
        "print(f\"el cubo de {Np} es {Cb}\")\n"
      ],
      "metadata": {
        "colab": {
          "base_uri": "https://localhost:8080/"
        },
        "id": "gVKonBqPePt5",
        "outputId": "0fb884ef-c111-4ead-90ae-1d4c53494d81"
      },
      "execution_count": null,
      "outputs": [
        {
          "output_type": "stream",
          "name": "stdout",
          "text": [
            "el cubo de 7 es 343\n"
          ]
        }
      ]
    }
  ]
}